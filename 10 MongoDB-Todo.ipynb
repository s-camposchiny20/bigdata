{
 "cells": [
  {
   "cell_type": "markdown",
   "metadata": {},
   "source": [
    "# MongoDB\n",
    "\n",
    "Based on https://docs.mongodb.com/getting-started \n"
   ]
  },
  {
   "cell_type": "markdown",
   "metadata": {},
   "source": [
    "MongoDB is a **NoSQL** open-source **document database**.  MongoDB provides horizontal scaling by replicating and partitioning the data over multiple nodes. This can improve the reliability and scalability of the system.\n",
    "\n",
    "A record in MongoDB is a **document**, which is a data structure composed of field and value pairs. MongoDB documents are similar to JSON objects or Python dictionaries. The values of fields may include other documents, arrays, and arrays of documents.\n",
    "\n",
    "This is an example of a document:\n",
    "```JSON\n",
    "{\n",
    "   \"_id\" : ObjectId(\"54c955492b7c8eb21818bd09\"),\n",
    "   \"address\" : {\n",
    "      \"street\" : \"2 Avenue\",\n",
    "      \"zipcode\" : \"10075\",\n",
    "      \"building\" : \"1480\",\n",
    "      \"coord\" : [ -73.9557413, 40.7720266 ]\n",
    "   },\n",
    "   \"borough\" : \"Manhattan\",\n",
    "   \"cuisine\" : \"Italian\",\n",
    "   \"grades\" : [\n",
    "      {\n",
    "         \"date\" : ISODate(\"2014-10-01T00:00:00Z\"),\n",
    "         \"grade\" : \"A\",\n",
    "         \"score\" : 11\n",
    "      },\n",
    "      {\n",
    "         \"date\" : ISODate(\"2014-01-16T00:00:00Z\"),\n",
    "         \"grade\" : \"B\",\n",
    "         \"score\" : 17\n",
    "      }\n",
    "   ],\n",
    "   \"name\" : \"Vella\",\n",
    "   \"restaurant_id\" : \"41704620\"\n",
    "}\n",
    "```\n",
    "In MongoDB, documents have a unique **_id** field that acts as a primary key. MongoDB automatically adds a unique _id to each document if you are not providing it by yourself.\n",
    "\n",
    "MongoDB stores documents in **collections**. Collections are analogous to tables in relational databases. Unlike a table, however, a collection does not require its documents to have the same schema.\n",
    "\n",
    "You can start a Docker image with MongoDB like this:\n",
    "```bash\n",
    "docker run -p 27017:27017 -d mongo\n",
    "```\n",
    "\n",
    "In production you really (!) would need to enable authentication with username and password, but for development purposes this is fine."
   ]
  },
  {
   "cell_type": "code",
   "execution_count": 1,
   "metadata": {},
   "outputs": [],
   "source": [
    "# Install the pymongo Python Package \n",
    "# !pip3 install pymongo"
   ]
  },
  {
   "cell_type": "code",
   "execution_count": 2,
   "metadata": {},
   "outputs": [],
   "source": [
    "from pymongo import MongoClient\n",
    "from pprint import pprint\n",
    "import requests \n",
    "import json"
   ]
  },
  {
   "cell_type": "markdown",
   "metadata": {},
   "source": [
    "Use MongoClient to create a connection. If you do not specify any arguments to MongoClient, then MongoClient defaults to the MongoDB instance that runs on the localhost interface on port 27017. You can also specify a complete MongoDB URI to define the connection, including explicitly specifying the host and port number. For example, the following creates a connection to a MongoDB instance that runs on mongodb0.example.net and the port of 27017: client = MongoClient(\"mongodb://mongodb0.example.net:27017\")"
   ]
  },
  {
   "cell_type": "code",
   "execution_count": 3,
   "metadata": {},
   "outputs": [],
   "source": [
    "# Client connects to \"localhost\" by default \n",
    "client = MongoClient()"
   ]
  },
  {
   "cell_type": "markdown",
   "metadata": {},
   "source": [
    "The first fundamental class of objects you will interact with using pymongo is Database which represents the database construct in MongoDB. Databases hold groups of logically related collections. MongoDB creates new databases implicitly upon their first use. Connect (create) with a database of your name, e.g. \n",
    "\n",
    "```python\n",
    "db = client[\"rolandmueller\"]\n",
    "``` \n",
    "or \n",
    "\n",
    "```python\n",
    "db = client.rolandmueller\n",
    "```"
   ]
  },
  {
   "cell_type": "code",
   "execution_count": 4,
   "metadata": {},
   "outputs": [],
   "source": [
    "# Create local \"bipm\" database on the fly \n",
    "db = client['bipm']"
   ]
  },
  {
   "cell_type": "code",
   "execution_count": 5,
   "metadata": {},
   "outputs": [],
   "source": [
    "# When we rerun the whole notebook, we start from scratch \n",
    "# by dropping the colection \"courses\"\n",
    "db.courses.drop()"
   ]
  },
  {
   "cell_type": "code",
   "execution_count": 6,
   "metadata": {},
   "outputs": [],
   "source": [
    "# Create a Python Dictonary\n",
    "courses = [\n",
    "    {'title': 'Data Science',\n",
    "     'lecturer': {\n",
    "         'name': 'Markus Löcher',\n",
    "         'department': 'Math',\n",
    "         'status': 'Professor'\n",
    "     },\n",
    "     'semester': 1},\n",
    "    {'title': 'Data Warehousing',\n",
    "     'lecturer': {\n",
    "         'name': 'Roland M. Mueller',\n",
    "         'department': 'Information Systems',\n",
    "         'status': 'Professor'\n",
    "     },\n",
    "     'semester': 1},\n",
    "    {'title': 'Business Process Management',\n",
    "     'lecturer': {\n",
    "         'name': 'Frank Habermann',\n",
    "         'department': 'Information Systems',\n",
    "         'status': 'Professor'\n",
    "     },\n",
    "     'semester': 1},\n",
    "    {'title': 'Stratigic Issues of IT',\n",
    "     'lecturer': {\n",
    "         'name': 'Sven Pohland',\n",
    "         'department': 'Information Systems',\n",
    "         'status': 'Professor'\n",
    "     },\n",
    "     'semester': 1},\n",
    "    {'title': 'Text, Web and Social Media Analytics Lab',\n",
    "     'lecturer': {\n",
    "         'name': 'Markus Löcher',\n",
    "         'department': 'Math',\n",
    "         'status': 'Professor'\n",
    "     },\n",
    "     'semester': 2},\n",
    "    {'title': 'Enterprise Architectures for Big Data',\n",
    "     'lecturer': {\n",
    "         'name': 'Roland M. Mueller',\n",
    "         'department': 'Information Systems',\n",
    "         'status': 'Professor'\n",
    "     },\n",
    "     'semester': 2},\n",
    "    {'title': 'Business Process Integration Lab',\n",
    "     'lecturer': {\n",
    "         'name': 'Frank Habermann',\n",
    "         'department': 'Information Systems',\n",
    "         'status': 'Professor'\n",
    "     },\n",
    "     'semester': 2},\n",
    "    {'title': 'IT-Security and Privacy',\n",
    "     'lecturer': {\n",
    "         'name': 'Dennis Uckel',\n",
    "         'department': 'Information Systems',\n",
    "         'status': 'External'\n",
    "     },\n",
    "     'semester': 2},\n",
    "    {'title': 'Research Methods',\n",
    "     'lecturer': {\n",
    "         'name': 'Marcus Birkenkrahe',\n",
    "         'department': 'Information Systems',\n",
    "         'status': 'Professor'\n",
    "     },\n",
    "     'semester': 2},\n",
    "]"
   ]
  },
  {
   "cell_type": "code",
   "execution_count": 7,
   "metadata": {},
   "outputs": [
    {
     "name": "stdout",
     "output_type": "stream",
     "text": [
      "[{'lecturer': {'department': 'Math',\n",
      "               'name': 'Markus Löcher',\n",
      "               'status': 'Professor'},\n",
      "  'semester': 1,\n",
      "  'title': 'Data Science'},\n",
      " {'lecturer': {'department': 'Information Systems',\n",
      "               'name': 'Roland M. Mueller',\n",
      "               'status': 'Professor'},\n",
      "  'semester': 1,\n",
      "  'title': 'Data Warehousing'},\n",
      " {'lecturer': {'department': 'Information Systems',\n",
      "               'name': 'Frank Habermann',\n",
      "               'status': 'Professor'},\n",
      "  'semester': 1,\n",
      "  'title': 'Business Process Management'},\n",
      " {'lecturer': {'department': 'Information Systems',\n",
      "               'name': 'Sven Pohland',\n",
      "               'status': 'Professor'},\n",
      "  'semester': 1,\n",
      "  'title': 'Stratigic Issues of IT'},\n",
      " {'lecturer': {'department': 'Math',\n",
      "               'name': 'Markus Löcher',\n",
      "               'status': 'Professor'},\n",
      "  'semester': 2,\n",
      "  'title': 'Text, Web and Social Media Analytics Lab'},\n",
      " {'lecturer': {'department': 'Information Systems',\n",
      "               'name': 'Roland M. Mueller',\n",
      "               'status': 'Professor'},\n",
      "  'semester': 2,\n",
      "  'title': 'Enterprise Architectures for Big Data'},\n",
      " {'lecturer': {'department': 'Information Systems',\n",
      "               'name': 'Frank Habermann',\n",
      "               'status': 'Professor'},\n",
      "  'semester': 2,\n",
      "  'title': 'Business Process Integration Lab'},\n",
      " {'lecturer': {'department': 'Information Systems',\n",
      "               'name': 'Dennis Uckel',\n",
      "               'status': 'External'},\n",
      "  'semester': 2,\n",
      "  'title': 'IT-Security and Privacy'},\n",
      " {'lecturer': {'department': 'Information Systems',\n",
      "               'name': 'Marcus Birkenkrahe',\n",
      "               'status': 'Professor'},\n",
      "  'semester': 2,\n",
      "  'title': 'Research Methods'}]\n"
     ]
    }
   ],
   "source": [
    "pprint(courses)"
   ]
  },
  {
   "cell_type": "markdown",
   "metadata": {},
   "source": [
    "## insert_many()\n",
    "\n",
    "You can use the `insert_one()` method and the `insert_many()` method to add documents to a collection in MongoDB. If you attempt to add documents to a collection that does not exist, MongoDB will create the collection for you."
   ]
  },
  {
   "cell_type": "code",
   "execution_count": 8,
   "metadata": {},
   "outputs": [
    {
     "data": {
      "text/plain": [
       "<pymongo.results.InsertManyResult at 0x2af6599a440>"
      ]
     },
     "execution_count": 8,
     "metadata": {},
     "output_type": "execute_result"
    }
   ],
   "source": [
    "db.courses.insert_many(courses)"
   ]
  },
  {
   "cell_type": "markdown",
   "metadata": {},
   "source": [
    "## find()\n",
    "\n",
    "You can use the find() method to issue a query to retrieve data from a collection in MongoDB. All queries in MongoDB have the scope of a single collection.\n",
    "Queries can return all documents in a collection or only the documents that match a specified filter or criteria. You can specify the filter or criteria in a document and pass as a parameter to the find() method. With no parameter, find() returns all documents in the collection.\n",
    "\n",
    "The find() method returns query results in a cursor, which is an iterable object that yields documents. Then you can print all documents.\n",
    "\n",
    "```python\n",
    "cursor = db.my_collection.find()\n",
    "\n",
    "for document in cursor:\n",
    "    pprint(document)\n",
    "```\n"
   ]
  },
  {
   "cell_type": "code",
   "execution_count": 9,
   "metadata": {},
   "outputs": [
    {
     "name": "stdout",
     "output_type": "stream",
     "text": [
      "{'_id': ObjectId('609eb3fca481744cec303297'),\n",
      " 'lecturer': {'department': 'Math',\n",
      "              'name': 'Markus Löcher',\n",
      "              'status': 'Professor'},\n",
      " 'semester': 1,\n",
      " 'title': 'Data Science'}\n",
      "{'_id': ObjectId('609eb3fca481744cec303298'),\n",
      " 'lecturer': {'department': 'Information Systems',\n",
      "              'name': 'Roland M. Mueller',\n",
      "              'status': 'Professor'},\n",
      " 'semester': 1,\n",
      " 'title': 'Data Warehousing'}\n",
      "{'_id': ObjectId('609eb3fca481744cec303299'),\n",
      " 'lecturer': {'department': 'Information Systems',\n",
      "              'name': 'Frank Habermann',\n",
      "              'status': 'Professor'},\n",
      " 'semester': 1,\n",
      " 'title': 'Business Process Management'}\n",
      "{'_id': ObjectId('609eb3fca481744cec30329a'),\n",
      " 'lecturer': {'department': 'Information Systems',\n",
      "              'name': 'Sven Pohland',\n",
      "              'status': 'Professor'},\n",
      " 'semester': 1,\n",
      " 'title': 'Stratigic Issues of IT'}\n",
      "{'_id': ObjectId('609eb3fca481744cec30329b'),\n",
      " 'lecturer': {'department': 'Math',\n",
      "              'name': 'Markus Löcher',\n",
      "              'status': 'Professor'},\n",
      " 'semester': 2,\n",
      " 'title': 'Text, Web and Social Media Analytics Lab'}\n",
      "{'_id': ObjectId('609eb3fca481744cec30329c'),\n",
      " 'lecturer': {'department': 'Information Systems',\n",
      "              'name': 'Roland M. Mueller',\n",
      "              'status': 'Professor'},\n",
      " 'semester': 2,\n",
      " 'title': 'Enterprise Architectures for Big Data'}\n",
      "{'_id': ObjectId('609eb3fca481744cec30329d'),\n",
      " 'lecturer': {'department': 'Information Systems',\n",
      "              'name': 'Frank Habermann',\n",
      "              'status': 'Professor'},\n",
      " 'semester': 2,\n",
      " 'title': 'Business Process Integration Lab'}\n",
      "{'_id': ObjectId('609eb3fca481744cec30329e'),\n",
      " 'lecturer': {'department': 'Information Systems',\n",
      "              'name': 'Dennis Uckel',\n",
      "              'status': 'External'},\n",
      " 'semester': 2,\n",
      " 'title': 'IT-Security and Privacy'}\n",
      "{'_id': ObjectId('609eb3fca481744cec30329f'),\n",
      " 'lecturer': {'department': 'Information Systems',\n",
      "              'name': 'Marcus Birkenkrahe',\n",
      "              'status': 'Professor'},\n",
      " 'semester': 2,\n",
      " 'title': 'Research Methods'}\n"
     ]
    }
   ],
   "source": [
    "# TODO: Print all courses\n",
    "\n",
    "cursor = db.courses.find()\n",
    "\n",
    "for document in cursor:\n",
    "    pprint(document)"
   ]
  },
  {
   "cell_type": "markdown",
   "metadata": {},
   "source": [
    "## JSON\n",
    "\n",
    "You can store a JSON document if you convert it before to a Python dictionary:"
   ]
  },
  {
   "cell_type": "code",
   "execution_count": 10,
   "metadata": {},
   "outputs": [
    {
     "data": {
      "text/plain": [
       "{'title': 'Master Thesis', 'semester': 3}"
      ]
     },
     "execution_count": 10,
     "metadata": {},
     "output_type": "execute_result"
    }
   ],
   "source": [
    "my_json = '{\"title\": \"Master Thesis\", \"semester\": 3}'\n",
    "another_course = json.loads(my_json)\n",
    "another_course"
   ]
  },
  {
   "cell_type": "markdown",
   "metadata": {},
   "source": [
    "## insert_one()\n",
    "\n",
    "The `insert_one()` method adds the document into the collection.\n"
   ]
  },
  {
   "cell_type": "code",
   "execution_count": 11,
   "metadata": {},
   "outputs": [
    {
     "data": {
      "text/plain": [
       "<pymongo.results.InsertOneResult at 0x2af659a87c0>"
      ]
     },
     "execution_count": 11,
     "metadata": {},
     "output_type": "execute_result"
    }
   ],
   "source": [
    "# TODO: Store `another_course` as another course:\n",
    "\n",
    "db.courses.insert_one(another_course)"
   ]
  },
  {
   "cell_type": "code",
   "execution_count": 12,
   "metadata": {},
   "outputs": [
    {
     "name": "stdout",
     "output_type": "stream",
     "text": [
      "{'_id': ObjectId('609eb3fca481744cec303297'),\n",
      " 'lecturer': {'department': 'Math',\n",
      "              'name': 'Markus Löcher',\n",
      "              'status': 'Professor'},\n",
      " 'semester': 1,\n",
      " 'title': 'Data Science'}\n",
      "{'_id': ObjectId('609eb3fca481744cec303298'),\n",
      " 'lecturer': {'department': 'Information Systems',\n",
      "              'name': 'Roland M. Mueller',\n",
      "              'status': 'Professor'},\n",
      " 'semester': 1,\n",
      " 'title': 'Data Warehousing'}\n",
      "{'_id': ObjectId('609eb3fca481744cec303299'),\n",
      " 'lecturer': {'department': 'Information Systems',\n",
      "              'name': 'Frank Habermann',\n",
      "              'status': 'Professor'},\n",
      " 'semester': 1,\n",
      " 'title': 'Business Process Management'}\n",
      "{'_id': ObjectId('609eb3fca481744cec30329a'),\n",
      " 'lecturer': {'department': 'Information Systems',\n",
      "              'name': 'Sven Pohland',\n",
      "              'status': 'Professor'},\n",
      " 'semester': 1,\n",
      " 'title': 'Stratigic Issues of IT'}\n",
      "{'_id': ObjectId('609eb3fca481744cec30329b'),\n",
      " 'lecturer': {'department': 'Math',\n",
      "              'name': 'Markus Löcher',\n",
      "              'status': 'Professor'},\n",
      " 'semester': 2,\n",
      " 'title': 'Text, Web and Social Media Analytics Lab'}\n",
      "{'_id': ObjectId('609eb3fca481744cec30329c'),\n",
      " 'lecturer': {'department': 'Information Systems',\n",
      "              'name': 'Roland M. Mueller',\n",
      "              'status': 'Professor'},\n",
      " 'semester': 2,\n",
      " 'title': 'Enterprise Architectures for Big Data'}\n",
      "{'_id': ObjectId('609eb3fca481744cec30329d'),\n",
      " 'lecturer': {'department': 'Information Systems',\n",
      "              'name': 'Frank Habermann',\n",
      "              'status': 'Professor'},\n",
      " 'semester': 2,\n",
      " 'title': 'Business Process Integration Lab'}\n",
      "{'_id': ObjectId('609eb3fca481744cec30329e'),\n",
      " 'lecturer': {'department': 'Information Systems',\n",
      "              'name': 'Dennis Uckel',\n",
      "              'status': 'External'},\n",
      " 'semester': 2,\n",
      " 'title': 'IT-Security and Privacy'}\n",
      "{'_id': ObjectId('609eb3fca481744cec30329f'),\n",
      " 'lecturer': {'department': 'Information Systems',\n",
      "              'name': 'Marcus Birkenkrahe',\n",
      "              'status': 'Professor'},\n",
      " 'semester': 2,\n",
      " 'title': 'Research Methods'}\n",
      "{'_id': ObjectId('609eb3fda481744cec3032a0'),\n",
      " 'semester': 3,\n",
      " 'title': 'Master Thesis'}\n"
     ]
    }
   ],
   "source": [
    "# TODO: Print all courses\n",
    "\n",
    "cursor = db.courses.find()\n",
    "\n",
    "for document in cursor:\n",
    "    pprint(document)"
   ]
  },
  {
   "cell_type": "markdown",
   "metadata": {},
   "source": [
    "## find_one() and find()\n",
    "\n",
    "`find_one()` returns the first match. ```find()```returns all matches.\n",
    "\n",
    "The query condition for `find_one()` and `find()` for an equality match on fields has the following form:\n",
    "```python\n",
    "{ <field1>: <value1>, <field2>: <value2>, ... } \n",
    "```\n",
    "\n",
    "The following operation finds the first documents whose name field equals \"Manhattan\".\n",
    "\n",
    "```python\n",
    "cursor = db.restaurants.find_one({\"name\": \"Manhattan\"})\n",
    "```\n"
   ]
  },
  {
   "cell_type": "code",
   "execution_count": 13,
   "metadata": {},
   "outputs": [
    {
     "name": "stdout",
     "output_type": "stream",
     "text": [
      "{'_id': ObjectId('609eb3fca481744cec303297'),\n",
      " 'lecturer': {'department': 'Math',\n",
      "              'name': 'Markus Löcher',\n",
      "              'status': 'Professor'},\n",
      " 'semester': 1,\n",
      " 'title': 'Data Science'}\n"
     ]
    }
   ],
   "source": [
    "# TODO: Find the course with the title \"Data Science\" \n",
    "# save the result in a varibale result\n",
    "# and pprint the result.\n",
    "\n",
    "result = db.courses.find_one({'title':'Data Science'})\n",
    "\n",
    "pprint(result)"
   ]
  },
  {
   "cell_type": "code",
   "execution_count": 14,
   "metadata": {},
   "outputs": [
    {
     "name": "stdout",
     "output_type": "stream",
     "text": [
      "609eb3fca481744cec303297\n",
      "Markus Löcher\n"
     ]
    }
   ],
   "source": [
    "print(result[\"_id\"])\n",
    "print(result[\"lecturer\"][\"name\"])"
   ]
  },
  {
   "cell_type": "code",
   "execution_count": 15,
   "metadata": {},
   "outputs": [
    {
     "name": "stdout",
     "output_type": "stream",
     "text": [
      "{'_id': ObjectId('609eb3fca481744cec30329b'),\n",
      " 'lecturer': {'department': 'Math',\n",
      "              'name': 'Markus Löcher',\n",
      "              'status': 'Professor'},\n",
      " 'semester': 2,\n",
      " 'title': 'Text, Web and Social Media Analytics Lab'}\n"
     ]
    }
   ],
   "source": [
    "# TODO: Find the first course (one course) in the second semester\n",
    "# and print it\n",
    "\n",
    "result = db.courses.find_one({'semester': 2})\n",
    "\n",
    "pprint(result)"
   ]
  },
  {
   "cell_type": "code",
   "execution_count": 16,
   "metadata": {},
   "outputs": [
    {
     "name": "stdout",
     "output_type": "stream",
     "text": [
      "'Text, Web and Social Media Analytics Lab'\n",
      "'Enterprise Architectures for Big Data'\n",
      "'Business Process Integration Lab'\n",
      "'IT-Security and Privacy'\n",
      "'Research Methods'\n"
     ]
    }
   ],
   "source": [
    "# TODO: Find all courses in the second semester\n",
    "# and print the course titles\n",
    "\n",
    "cursor = db.courses.find({'semester': 2})\n",
    "\n",
    "for document in cursor:\n",
    "    pprint(document['title'])"
   ]
  },
  {
   "cell_type": "code",
   "execution_count": 17,
   "metadata": {},
   "outputs": [
    {
     "name": "stdout",
     "output_type": "stream",
     "text": [
      "'Markus Löcher'\n",
      "'Roland M. Mueller'\n",
      "'Frank Habermann'\n",
      "'Dennis Uckel'\n",
      "'Marcus Birkenkrahe'\n"
     ]
    }
   ],
   "source": [
    "# TODO: Find all courses in the second semester\n",
    "# and print the lecturers names\n",
    "\n",
    "cursor = db.courses.find({'semester': 2})\n",
    "\n",
    "for document in cursor:\n",
    "    pprint(document['lecturer']['name'])"
   ]
  },
  {
   "cell_type": "markdown",
   "metadata": {},
   "source": [
    "## Subelements\n",
    "\n",
    "Sometimes documents contains embedded documents as its elements. To specify a condition on a field in these documents, use the dot notation. Dot notation requires quotes around the whole dotted field name. The following queries for documents whose grades array contains an embedded document with a field grade equal to \"B\".\n",
    "\n",
    "```python\n",
    "cursor = db.restaurants.find({\"grades.grade\": \"B\"})\n",
    "```"
   ]
  },
  {
   "cell_type": "code",
   "execution_count": 18,
   "metadata": {},
   "outputs": [
    {
     "name": "stdout",
     "output_type": "stream",
     "text": [
      "Title: Business Process Management\n",
      "Semester: 1\n",
      "\n",
      "Title: Business Process Integration Lab\n",
      "Semester: 2\n",
      "\n"
     ]
    }
   ],
   "source": [
    "# TODO: Find all courses of Frank Habermann\n",
    "# and print the title and the semester\n",
    "\n",
    "cursor = db.courses.find({'lecturer.name': 'Frank Habermann'})\n",
    "\n",
    "for document in cursor:\n",
    "    title = document['title']\n",
    "    semester = document['semester']\n",
    "    print('Title: {}\\nSemester: {}\\n'.format(title, semester))"
   ]
  },
  {
   "cell_type": "markdown",
   "metadata": {},
   "source": [
    "## Logical AND\n",
    "\n",
    "You can specify a logical conjunction (AND) for a list of query conditions by separating the conditions with a comma in the conditions document.\n",
    "\n",
    "```python\n",
    "cursor = db.restaurants.find({\"cuisine\": \"Italian\", \"address.zipcode\": \"10075\"})\n",
    "```"
   ]
  },
  {
   "cell_type": "code",
   "execution_count": 19,
   "metadata": {},
   "outputs": [
    {
     "name": "stdout",
     "output_type": "stream",
     "text": [
      "Title: Business Process Integration Lab\n",
      "Semester: 2\n",
      "\n"
     ]
    }
   ],
   "source": [
    "# TODO: Find all courses from Frank Habermann in the second semester\n",
    "# and print the title and the semester\n",
    "\n",
    "cursor = db.courses.find({'lecturer.name': 'Frank Habermann', 'semester': 2})\n",
    "\n",
    "for document in cursor:\n",
    "    title = document['title']\n",
    "    semester = document['semester']\n",
    "    print('Title: {}\\nSemester: {}\\n'.format(title, semester))"
   ]
  },
  {
   "cell_type": "markdown",
   "metadata": {},
   "source": [
    "## Logical OR\n",
    "\n",
    "You can specify a logical disjunction (OR) for a list of query conditions by using the $or query operator.\n",
    "\n",
    "```python\n",
    "cursor = db.restaurants.find({\"$or\": [{\"cuisine\": \"Italian\"}, {\"address.zipcode\": \"10075\"}]})\n",
    "```\n"
   ]
  },
  {
   "cell_type": "code",
   "execution_count": 20,
   "metadata": {
    "scrolled": true
   },
   "outputs": [
    {
     "name": "stdout",
     "output_type": "stream",
     "text": [
      "Title: Data Science\n",
      "Semester: 1\n",
      "\n",
      "Title: Business Process Management\n",
      "Semester: 1\n",
      "\n",
      "Title: Text, Web and Social Media Analytics Lab\n",
      "Semester: 2\n",
      "\n",
      "Title: Business Process Integration Lab\n",
      "Semester: 2\n",
      "\n"
     ]
    }
   ],
   "source": [
    "# TODO: Find all courses from Frank Habermann or Markus Löcher\n",
    "# and print the title and the semester\n",
    "\n",
    "cursor = db.courses.find({'$or': [{'lecturer.name': 'Frank Habermann'}, {'lecturer.name': 'Markus Löcher'}]})\n",
    "\n",
    "for document in cursor:\n",
    "    title = document['title']\n",
    "    semester = document['semester']\n",
    "    print('Title: {}\\nSemester: {}\\n'.format(title, semester))"
   ]
  },
  {
   "cell_type": "markdown",
   "metadata": {},
   "source": [
    "## Greater than, Less than\n",
    "\n",
    "MongoDB provides operators to specify query conditions, such as comparison operators. Query conditions using operators generally have the following form:\n",
    "```python\n",
    "{ <field1>: { <operator1>: <value1> } }\n",
    "```\n",
    "\n",
    "Greater Than Operator (`$gt`). Query for documents whose grades array contains an embedded document with a field score greater than 30.\n",
    "\n",
    "```python\n",
    "cursor = db.restaurants.find({\"grades.score\": {\"$gt\": 30}})\n",
    "```\n",
    "\n",
    "Less Than Operator (`$lt`). Query for documents whose grades array contains an embedded document with a field score less than 10.\n",
    "\n",
    "```python\n",
    "cursor = db.restaurants.find({\"grades.score\": {\"$lt\": 10}})\n",
    "```\n",
    "\n"
   ]
  },
  {
   "cell_type": "code",
   "execution_count": 21,
   "metadata": {
    "scrolled": true
   },
   "outputs": [
    {
     "name": "stdout",
     "output_type": "stream",
     "text": [
      "Title: Text, Web and Social Media Analytics Lab\n",
      "Semester: 2\n",
      "\n",
      "Title: Enterprise Architectures for Big Data\n",
      "Semester: 2\n",
      "\n",
      "Title: Business Process Integration Lab\n",
      "Semester: 2\n",
      "\n",
      "Title: IT-Security and Privacy\n",
      "Semester: 2\n",
      "\n",
      "Title: Research Methods\n",
      "Semester: 2\n",
      "\n",
      "Title: Master Thesis\n",
      "Semester: 3\n",
      "\n"
     ]
    }
   ],
   "source": [
    "# TODO: Find all courses in semester greater than 1\n",
    "# and print the title and the semester\n",
    "\n",
    "cursor = db.courses.find({'semester': {'$gt': 1}})\n",
    "\n",
    "for document in cursor:\n",
    "    title = document['title']\n",
    "    semester = document['semester']\n",
    "    print('Title: {}\\nSemester: {}\\n'.format(title, semester))"
   ]
  },
  {
   "cell_type": "markdown",
   "metadata": {},
   "source": [
    "## Counting\n",
    "\n",
    "`count_documents()` works like `find()` but returns the number of matched documents-"
   ]
  },
  {
   "cell_type": "code",
   "execution_count": 22,
   "metadata": {},
   "outputs": [
    {
     "name": "stdout",
     "output_type": "stream",
     "text": [
      "5\n"
     ]
    }
   ],
   "source": [
    "# TODO: How many courses are in the second semester?\n",
    "\n",
    "count = db.courses.count_documents({'semester': 2})\n",
    "\n",
    "print(count)"
   ]
  },
  {
   "cell_type": "markdown",
   "metadata": {},
   "source": [
    "# Downloading Nobel Prize Winners with an API and storing them in MongoDB\n",
    "\n",
    "![](https://upload.wikimedia.org/wikipedia/en/e/ed/Nobel_Prize.png)\n",
    "The Nobel Prize offers a Web API https://nobelprize.readme.io/docs/prize\n",
    "\n",
    "Because the API is giving us JSON and MongoDB is able to store documents in a JSON-like format, using a document database like MongoDB seems like a good fit to store the results of the API.  You can get all laureates at http://api.nobelprize.org/v1/laureate.json and all prizes at http://api.nobelprize.org/v1/prize.json\n",
    "\n",
    "We will just download all laureates and prizes and store them in MongoDB!"
   ]
  },
  {
   "cell_type": "code",
   "execution_count": 23,
   "metadata": {},
   "outputs": [],
   "source": [
    "# Create local \"nobel\" database on the fly \n",
    "db = client[\"nobel\"]\n",
    "db.prizes.drop()\n",
    "db.laureates.drop()\n",
    "# API documented at https://nobelprize.readme.io/docs/prize \n",
    "for collection_name in [\"prizes\", \"laureates\"]:\n",
    "    singular = collection_name[:-1] # the API uses singular\n",
    "    response = requests.get( \"http://api.nobelprize.org/v1/{}.json\".format(singular)) \n",
    "    documents = response.json()[collection_name] \n",
    "    # Create collections on the fly \n",
    "    db[collection_name].insert_many(documents)"
   ]
  },
  {
   "cell_type": "code",
   "execution_count": 24,
   "metadata": {},
   "outputs": [
    {
     "name": "stdout",
     "output_type": "stream",
     "text": [
      "{'_id': ObjectId('609eb3fea481744cec30352d'),\n",
      " 'born': '1845-03-27',\n",
      " 'bornCity': 'Lennep (now Remscheid)',\n",
      " 'bornCountry': 'Prussia (now Germany)',\n",
      " 'bornCountryCode': 'DE',\n",
      " 'died': '1923-02-10',\n",
      " 'diedCity': 'Munich',\n",
      " 'diedCountry': 'Germany',\n",
      " 'diedCountryCode': 'DE',\n",
      " 'firstname': 'Wilhelm Conrad',\n",
      " 'gender': 'male',\n",
      " 'id': '1',\n",
      " 'prizes': [{'affiliations': [{'city': 'Munich',\n",
      "                               'country': 'Germany',\n",
      "                               'name': 'Munich University'}],\n",
      "             'category': 'physics',\n",
      "             'motivation': '\"in recognition of the extraordinary services he '\n",
      "                           'has rendered by the discovery of the remarkable '\n",
      "                           'rays subsequently named after him\"',\n",
      "             'share': '1',\n",
      "             'year': '1901'}],\n",
      " 'surname': 'Röntgen'}\n"
     ]
    }
   ],
   "source": [
    "pprint(db.laureates.find_one())"
   ]
  },
  {
   "cell_type": "code",
   "execution_count": 25,
   "metadata": {},
   "outputs": [
    {
     "name": "stdout",
     "output_type": "stream",
     "text": [
      "Wilhelm Conrad\n"
     ]
    }
   ],
   "source": [
    "# TODO: Print the first name of the first document\n",
    "\n",
    "document = db.laureates.find_one()\n",
    "\n",
    "print(document['firstname'])"
   ]
  },
  {
   "cell_type": "markdown",
   "metadata": {},
   "source": [
    "With `count_documents` you can count the number of matching documents. "
   ]
  },
  {
   "cell_type": "code",
   "execution_count": 26,
   "metadata": {},
   "outputs": [
    {
     "name": "stdout",
     "output_type": "stream",
     "text": [
      "57\n"
     ]
    }
   ],
   "source": [
    "# How many female laureates exists? \n",
    "\n",
    "count = db.laureates.count_documents({'gender': 'female'})\n",
    "\n",
    "print(count)"
   ]
  },
  {
   "cell_type": "markdown",
   "metadata": {},
   "source": [
    "With the `$regex` function you can use a regular expression. `distinct` list only all distinct entries."
   ]
  },
  {
   "cell_type": "code",
   "execution_count": 27,
   "metadata": {},
   "outputs": [
    {
     "data": {
      "text/plain": [
       "['Bavaria (now Germany)',\n",
       " 'East Friesland (now Germany)',\n",
       " 'Germany',\n",
       " 'Germany (now France)',\n",
       " 'Germany (now Poland)',\n",
       " 'Germany (now Russia)',\n",
       " 'Hesse-Kassel (now Germany)',\n",
       " 'Mecklenburg (now Germany)',\n",
       " 'Prussia (now Germany)',\n",
       " 'Schleswig (now Germany)',\n",
       " 'West Germany (now Germany)',\n",
       " 'Württemberg (now Germany)']"
      ]
     },
     "execution_count": 27,
     "metadata": {},
     "output_type": "execute_result"
    }
   ],
   "source": [
    "db.laureates.distinct(\"bornCountry\", {\"bornCountry\": {\"$regex\": \"Germany\"}})"
   ]
  },
  {
   "cell_type": "code",
   "execution_count": 28,
   "metadata": {},
   "outputs": [
    {
     "name": "stdout",
     "output_type": "stream",
     "text": [
      "95\n"
     ]
    }
   ],
   "source": [
    "# TODO: How many laureates are from Germany?\n",
    "\n",
    "count = db.laureates.count_documents({'bornCountry': {'$regex': 'Germany'}})\n",
    "\n",
    "print(count)"
   ]
  },
  {
   "cell_type": "code",
   "execution_count": 29,
   "metadata": {},
   "outputs": [
    {
     "name": "stdout",
     "output_type": "stream",
     "text": [
      "Year of First Prize: 1901\n",
      "First Name: Wilhelm Conrad\n",
      "Surname: Röntgen\n",
      "\n",
      "Year of First Prize: 1909\n",
      "First Name: Ferdinand\n",
      "Surname: Braun\n",
      "\n",
      "Year of First Prize: 1914\n",
      "First Name: Max\n",
      "Surname: von Laue\n",
      "\n",
      "Year of First Prize: 1918\n",
      "First Name: Max\n",
      "Surname: Planck\n",
      "\n",
      "Year of First Prize: 1919\n",
      "First Name: Johannes\n",
      "Surname: Stark\n",
      "\n",
      "Year of First Prize: 1921\n",
      "First Name: Albert\n",
      "Surname: Einstein\n",
      "\n",
      "Year of First Prize: 1925\n",
      "First Name: James\n",
      "Surname: Franck\n",
      "\n",
      "Year of First Prize: 1925\n",
      "First Name: Gustav\n",
      "Surname: Hertz\n",
      "\n",
      "Year of First Prize: 1932\n",
      "First Name: Werner\n",
      "Surname: Heisenberg\n",
      "\n",
      "Year of First Prize: 1943\n",
      "First Name: Otto\n",
      "Surname: Stern\n",
      "\n",
      "Year of First Prize: 1954\n",
      "First Name: Max\n",
      "Surname: Born\n",
      "\n",
      "Year of First Prize: 1954\n",
      "First Name: Walther\n",
      "Surname: Bothe\n",
      "\n",
      "Year of First Prize: 1955\n",
      "First Name: Polykarp\n",
      "Surname: Kusch\n",
      "\n",
      "Year of First Prize: 1961\n",
      "First Name: Rudolf\n",
      "Surname: Mössbauer\n",
      "\n",
      "Year of First Prize: 1963\n",
      "First Name: Maria\n",
      "Surname: Goeppert Mayer\n",
      "\n",
      "Year of First Prize: 1963\n",
      "First Name: J. Hans D.\n",
      "Surname: Jensen\n",
      "\n",
      "Year of First Prize: 1966\n",
      "First Name: Alfred\n",
      "Surname: Kastler\n",
      "\n",
      "Year of First Prize: 1967\n",
      "First Name: Hans\n",
      "Surname: Bethe\n",
      "\n",
      "Year of First Prize: 1978\n",
      "First Name: Arno\n",
      "Surname: Penzias\n",
      "\n",
      "Year of First Prize: 1986\n",
      "First Name: Ernst\n",
      "Surname: Ruska\n",
      "\n",
      "Year of First Prize: 1986\n",
      "First Name: Gerd\n",
      "Surname: Binnig\n",
      "\n",
      "Year of First Prize: 1987\n",
      "First Name: J. Georg\n",
      "Surname: Bednorz\n",
      "\n",
      "Year of First Prize: 1988\n",
      "First Name: Jack\n",
      "Surname: Steinberger\n",
      "\n",
      "Year of First Prize: 1989\n",
      "First Name: Hans G.\n",
      "Surname: Dehmelt\n",
      "\n",
      "Year of First Prize: 1989\n",
      "First Name: Wolfgang\n",
      "Surname: Paul\n",
      "\n",
      "Year of First Prize: 1998\n",
      "First Name: Horst L.\n",
      "Surname: Störmer\n",
      "\n",
      "Year of First Prize: 2000\n",
      "First Name: Herbert\n",
      "Surname: Kroemer\n",
      "\n",
      "Year of First Prize: 2001\n",
      "First Name: Wolfgang\n",
      "Surname: Ketterle\n",
      "\n",
      "Year of First Prize: 2005\n",
      "First Name: Theodor W.\n",
      "Surname: Hänsch\n",
      "\n",
      "Year of First Prize: 2017\n",
      "First Name: Rainer\n",
      "Surname: Weiss\n",
      "\n",
      "Year of First Prize: 2020\n",
      "First Name: Reinhard\n",
      "Surname: Genzel\n",
      "\n"
     ]
    }
   ],
   "source": [
    "# TODO: Find all physics nobel laureates that are from Germany\n",
    "# print the year of the first prize, the first name, and surename\n",
    "\n",
    "cursor = db.laureates.find({'prizes.category': 'physics', 'bornCountry':{'$regex': 'Germany'}})\n",
    "\n",
    "for document in cursor:\n",
    "    first_prize_year = document['prizes'][0]['year']\n",
    "    firstname = document['firstname']\n",
    "    surname = document['surname']\n",
    "    print('Year of First Prize: {}\\nFirst Name: {}\\nSurname: {}\\n'.format(first_prize_year, firstname, surname))"
   ]
  },
  {
   "cell_type": "code",
   "execution_count": 30,
   "metadata": {
    "scrolled": true
   },
   "outputs": [
    {
     "name": "stdout",
     "output_type": "stream",
     "text": [
      "{'_id': ObjectId('609eb3fea481744cec30389d'),\n",
      " 'born': '1997-07-12',\n",
      " 'bornCity': 'Mingora',\n",
      " 'bornCountry': 'Pakistan',\n",
      " 'bornCountryCode': 'PK',\n",
      " 'died': '0000-00-00',\n",
      " 'firstname': 'Malala',\n",
      " 'gender': 'female',\n",
      " 'id': '914',\n",
      " 'prizes': [{'affiliations': [[]],\n",
      "             'category': 'peace',\n",
      "             'motivation': '\"for their struggle against the suppression of '\n",
      "                           'children and young people and for the right of all '\n",
      "                           'children to education\"',\n",
      "             'share': '2',\n",
      "             'year': '2014'}],\n",
      " 'surname': 'Yousafzai'}\n"
     ]
    }
   ],
   "source": [
    "# TODO: find and print the document for \"Malala\" (firstname)\n",
    "\n",
    "result = db.laureates.find_one({'firstname': 'Malala'})\n",
    "\n",
    "pprint(result)"
   ]
  },
  {
   "cell_type": "markdown",
   "metadata": {},
   "source": [
    "## Sort()\n",
    "\n",
    "With `sort()` you can sort the list of documents. The parameter of sort is a list of sorting tuples. Each tuple is a value and an integer value 1 or -1 which states whether the collection to be sorted in ascending (1) or descending (-1) order.\n",
    "\n",
    "Sort all restaurants according to the grade in ascending order.\n",
    "```python\n",
    "cursor = db.restaurants.find().sort([(\"grades.grade\", 1)])\n",
    "```"
   ]
  },
  {
   "cell_type": "code",
   "execution_count": 31,
   "metadata": {},
   "outputs": [
    {
     "name": "stdout",
     "output_type": "stream",
     "text": [
      "Year of First Prize: 1903\n",
      "First Name: Marie\n",
      "Surname: Curie\n",
      "\n",
      "Year of First Prize: 1905\n",
      "First Name: Bertha\n",
      "Surname: von Suttner\n",
      "\n",
      "Year of First Prize: 1909\n",
      "First Name: Selma\n",
      "Surname: Lagerlöf\n",
      "\n",
      "Year of First Prize: 1926\n",
      "First Name: Grazia\n",
      "Surname: Deledda\n",
      "\n",
      "Year of First Prize: 1928\n",
      "First Name: Sigrid\n",
      "Surname: Undset\n",
      "\n",
      "Year of First Prize: 1931\n",
      "First Name: Jane\n",
      "Surname: Addams\n",
      "\n",
      "Year of First Prize: 1935\n",
      "First Name: Irène\n",
      "Surname: Joliot-Curie\n",
      "\n",
      "Year of First Prize: 1938\n",
      "First Name: Pearl\n",
      "Surname: Buck\n",
      "\n",
      "Year of First Prize: 1945\n",
      "First Name: Gabriela\n",
      "Surname: Mistral\n",
      "\n",
      "Year of First Prize: 1946\n",
      "First Name: Emily Greene\n",
      "Surname: Balch\n",
      "\n",
      "Year of First Prize: 1947\n",
      "First Name: Gerty\n",
      "Surname: Cori\n",
      "\n",
      "Year of First Prize: 1963\n",
      "First Name: Maria\n",
      "Surname: Goeppert Mayer\n",
      "\n",
      "Year of First Prize: 1964\n",
      "First Name: Dorothy Crowfoot\n",
      "Surname: Hodgkin\n",
      "\n",
      "Year of First Prize: 1966\n",
      "First Name: Nelly\n",
      "Surname: Sachs\n",
      "\n",
      "Year of First Prize: 1976\n",
      "First Name: Betty\n",
      "Surname: Williams\n",
      "\n",
      "Year of First Prize: 1976\n",
      "First Name: Mairead\n",
      "Surname: Corrigan\n",
      "\n",
      "Year of First Prize: 1977\n",
      "First Name: Rosalyn\n",
      "Surname: Yalow\n",
      "\n",
      "Year of First Prize: 1979\n",
      "First Name: Anjezë Gonxhe\n",
      "Surname: Bojaxhiu\n",
      "\n",
      "Year of First Prize: 1982\n",
      "First Name: Alva\n",
      "Surname: Myrdal\n",
      "\n",
      "Year of First Prize: 1983\n",
      "First Name: Barbara\n",
      "Surname: McClintock\n",
      "\n",
      "Year of First Prize: 1986\n",
      "First Name: Rita\n",
      "Surname: Levi-Montalcini\n",
      "\n",
      "Year of First Prize: 1988\n",
      "First Name: Gertrude B.\n",
      "Surname: Elion\n",
      "\n",
      "Year of First Prize: 1991\n",
      "First Name: Aung San Suu Kyi\n",
      "Surname: N/A\n",
      "\n",
      "Year of First Prize: 1991\n",
      "First Name: Nadine\n",
      "Surname: Gordimer\n",
      "\n",
      "Year of First Prize: 1992\n",
      "First Name: Rigoberta\n",
      "Surname: Menchú Tum\n",
      "\n",
      "Year of First Prize: 1993\n",
      "First Name: Toni\n",
      "Surname: Morrison\n",
      "\n",
      "Year of First Prize: 1995\n",
      "First Name: Christiane\n",
      "Surname: Nüsslein-Volhard\n",
      "\n",
      "Year of First Prize: 1996\n",
      "First Name: Wislawa\n",
      "Surname: Szymborska\n",
      "\n",
      "Year of First Prize: 1997\n",
      "First Name: Jody\n",
      "Surname: Williams\n",
      "\n",
      "Year of First Prize: 2003\n",
      "First Name: Shirin\n",
      "Surname: Ebadi\n",
      "\n",
      "Year of First Prize: 2004\n",
      "First Name: Linda B.\n",
      "Surname: Buck\n",
      "\n",
      "Year of First Prize: 2004\n",
      "First Name: Elfriede\n",
      "Surname: Jelinek\n",
      "\n",
      "Year of First Prize: 2004\n",
      "First Name: Wangari\n",
      "Surname: Maathai\n",
      "\n",
      "Year of First Prize: 2007\n",
      "First Name: Doris\n",
      "Surname: Lessing\n",
      "\n",
      "Year of First Prize: 2008\n",
      "First Name: Françoise\n",
      "Surname: Barré-Sinoussi\n",
      "\n",
      "Year of First Prize: 2009\n",
      "First Name: Elizabeth H.\n",
      "Surname: Blackburn\n",
      "\n",
      "Year of First Prize: 2009\n",
      "First Name: Carol W.\n",
      "Surname: Greider\n",
      "\n",
      "Year of First Prize: 2009\n",
      "First Name: Ada E.\n",
      "Surname: Yonath\n",
      "\n",
      "Year of First Prize: 2009\n",
      "First Name: Herta\n",
      "Surname: Müller\n",
      "\n",
      "Year of First Prize: 2009\n",
      "First Name: Elinor\n",
      "Surname: Ostrom\n",
      "\n",
      "Year of First Prize: 2011\n",
      "First Name: Ellen\n",
      "Surname: Johnson Sirleaf\n",
      "\n",
      "Year of First Prize: 2011\n",
      "First Name: Leymah\n",
      "Surname: Gbowee\n",
      "\n",
      "Year of First Prize: 2011\n",
      "First Name: Tawakkol\n",
      "Surname: Karman\n",
      "\n",
      "Year of First Prize: 2013\n",
      "First Name: Alice\n",
      "Surname: Munro\n",
      "\n",
      "Year of First Prize: 2014\n",
      "First Name: May-Britt\n",
      "Surname: Moser\n",
      "\n",
      "Year of First Prize: 2014\n",
      "First Name: Malala\n",
      "Surname: Yousafzai\n",
      "\n",
      "Year of First Prize: 2015\n",
      "First Name: Youyou\n",
      "Surname: Tu\n",
      "\n",
      "Year of First Prize: 2015\n",
      "First Name: Svetlana\n",
      "Surname: Alexievich\n",
      "\n",
      "Year of First Prize: 2018\n",
      "First Name: Donna\n",
      "Surname: Strickland\n",
      "\n",
      "Year of First Prize: 2018\n",
      "First Name: Frances H.\n",
      "Surname: Arnold\n",
      "\n",
      "Year of First Prize: 2018\n",
      "First Name: Nadia\n",
      "Surname: Murad\n",
      "\n",
      "Year of First Prize: 2018\n",
      "First Name: Olga\n",
      "Surname: Tokarczuk\n",
      "\n",
      "Year of First Prize: 2019\n",
      "First Name: Esther\n",
      "Surname: Duflo\n",
      "\n",
      "Year of First Prize: 2020\n",
      "First Name: Andrea\n",
      "Surname: Ghez\n",
      "\n",
      "Year of First Prize: 2020\n",
      "First Name: Emmanuelle\n",
      "Surname: Charpentier\n",
      "\n",
      "Year of First Prize: 2020\n",
      "First Name: Jennifer A.\n",
      "Surname: Doudna\n",
      "\n",
      "Year of First Prize: 2020\n",
      "First Name: Louise\n",
      "Surname: Glück\n",
      "\n"
     ]
    }
   ],
   "source": [
    "# TODO: Find only female nobel laureates \n",
    "# and sort them according the the prize year in ascending order\n",
    "# print year of the first prize, firstname, and surename\n",
    "\n",
    "cursor = db.laureates.find({'gender': 'female'}).sort([('prizes.year', 1)])\n",
    "\n",
    "for document in cursor:\n",
    "    first_prize_year = document['prizes'][0]['year']\n",
    "    firstname = document['firstname']\n",
    "    try:\n",
    "        surname = document['surname']\n",
    "    except KeyError:\n",
    "        surname = 'N/A'\n",
    "    print('Year of First Prize: {}\\nFirst Name: {}\\nSurname: {}\\n'.format(first_prize_year, firstname, surname))"
   ]
  }
 ],
 "metadata": {
  "celltoolbar": "Raw Cell Format",
  "kernelspec": {
   "display_name": "Python 3",
   "language": "python",
   "name": "python3"
  },
  "language_info": {
   "codemirror_mode": {
    "name": "ipython",
    "version": 3
   },
   "file_extension": ".py",
   "mimetype": "text/x-python",
   "name": "python",
   "nbconvert_exporter": "python",
   "pygments_lexer": "ipython3",
   "version": "3.8.8"
  },
  "varInspector": {
   "cols": {
    "lenName": 16,
    "lenType": 16,
    "lenVar": 40
   },
   "kernels_config": {
    "python": {
     "delete_cmd_postfix": "",
     "delete_cmd_prefix": "del ",
     "library": "var_list.py",
     "varRefreshCmd": "print(var_dic_list())"
    },
    "r": {
     "delete_cmd_postfix": ") ",
     "delete_cmd_prefix": "rm(",
     "library": "var_list.r",
     "varRefreshCmd": "cat(var_dic_list()) "
    }
   },
   "types_to_exclude": [
    "module",
    "function",
    "builtin_function_or_method",
    "instance",
    "_Feature"
   ],
   "window_display": false
  }
 },
 "nbformat": 4,
 "nbformat_minor": 2
}
