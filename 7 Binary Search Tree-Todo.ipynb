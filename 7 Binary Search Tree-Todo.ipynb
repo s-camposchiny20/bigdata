{
 "cells": [
  {
   "cell_type": "markdown",
   "metadata": {},
   "source": [
    "Animation: https://www.cs.usfca.edu/~galles/visualization/BST.html"
   ]
  },
  {
   "cell_type": "code",
   "execution_count": 1,
   "metadata": {},
   "outputs": [],
   "source": [
    "class Node:\n",
    "    \"\"\"\n",
    "    Tree node with left and right child and data\n",
    "    \"\"\"\n",
    "    def __init__(self, data):\n",
    "        self.data = data\n",
    "        self.left_child = None\n",
    "        self.right_child = None"
   ]
  },
  {
   "cell_type": "code",
   "execution_count": 2,
   "metadata": {},
   "outputs": [],
   "source": [
    "class Tree:\n",
    "    def __init__(self):\n",
    "        \"\"\"Create an empty binary search tree\"\"\"\n",
    "        self.root = None\n",
    "    \n",
    "    def insert(self, item):\n",
    "        \"\"\"Add an item in the binary search tree\"\"\"\n",
    "        new_node = Node(item)\n",
    "        if self.root == None:\n",
    "            self.root = new_node\n",
    "            print('Added New Root: {}, {}, {}'.format(self.root.data, self.root.left_child, self.root.right_child))\n",
    "        else:\n",
    "            current = self.root\n",
    "            while True:\n",
    "                print('Current: {}, {}, {}'.format(current.data, current.left_child, current.right_child))\n",
    "                if new_node.data < current.data:\n",
    "                    if current.left_child == None:\n",
    "                        current.left_child = new_node\n",
    "                        print('Added Left Node: {}, {}, {}'.format(new_node.data, new_node.left_child, new_node.right_child))\n",
    "                        break\n",
    "                    else:\n",
    "                        current = current.left_child\n",
    "                else:\n",
    "                    if current.right_child == None:\n",
    "                        current.right_child = new_node\n",
    "                        print('Added Right Node: {}, {}, {}'.format(new_node.data, new_node.left_child, new_node.right_child))\n",
    "                        break\n",
    "                    else:\n",
    "                        current = current.right_child\n",
    "        print('---------------------------------------------------------------')\n",
    "    \n",
    "    def find(self, item):\n",
    "        \"\"\"Returns true if item is in the tree or false otherwise\"\"\"\n",
    "        current = self.root\n",
    "        while True:\n",
    "            if current.data == item:\n",
    "                print(current.data)\n",
    "                return True\n",
    "            else:\n",
    "                if item < current.data:\n",
    "                    print(current.data)\n",
    "                    current = current.left_child\n",
    "                else:\n",
    "                    print(current.data)\n",
    "                    current = current.right_child\n",
    "                    \n",
    "                if current == None:\n",
    "                        return False"
   ]
  },
  {
   "cell_type": "code",
   "execution_count": 3,
   "metadata": {},
   "outputs": [],
   "source": [
    "tree = Tree()"
   ]
  },
  {
   "cell_type": "code",
   "execution_count": 4,
   "metadata": {},
   "outputs": [
    {
     "name": "stdout",
     "output_type": "stream",
     "text": [
      "Added New Root: 30, None, None\n",
      "---------------------------------------------------------------\n",
      "Current: 30, None, None\n",
      "Added Left Node: 5, None, None\n",
      "---------------------------------------------------------------\n",
      "Current: 30, <__main__.Node object at 0x000001FAEBD9CFA0>, None\n",
      "Added Right Node: 50, None, None\n",
      "---------------------------------------------------------------\n",
      "Current: 30, <__main__.Node object at 0x000001FAEBD9CFA0>, <__main__.Node object at 0x000001FAEBDE5940>\n",
      "Current: 5, None, None\n",
      "Added Right Node: 8, None, None\n",
      "---------------------------------------------------------------\n",
      "Current: 30, <__main__.Node object at 0x000001FAEBD9CFA0>, <__main__.Node object at 0x000001FAEBDE5940>\n",
      "Current: 5, None, <__main__.Node object at 0x000001FAEBDE5820>\n",
      "Added Left Node: 3, None, None\n",
      "---------------------------------------------------------------\n",
      "Current: 30, <__main__.Node object at 0x000001FAEBD9CFA0>, <__main__.Node object at 0x000001FAEBDE5940>\n",
      "Current: 50, None, None\n",
      "Added Right Node: 100, None, None\n",
      "---------------------------------------------------------------\n",
      "Current: 30, <__main__.Node object at 0x000001FAEBD9CFA0>, <__main__.Node object at 0x000001FAEBDE5940>\n",
      "Current: 50, None, <__main__.Node object at 0x000001FAEBDE5340>\n",
      "Added Left Node: 40, None, None\n",
      "---------------------------------------------------------------\n"
     ]
    }
   ],
   "source": [
    "tree.insert(30)\n",
    "tree.insert(5)\n",
    "tree.insert(50)\n",
    "tree.insert(8)\n",
    "tree.insert(3)\n",
    "tree.insert(100)\n",
    "tree.insert(40)"
   ]
  },
  {
   "attachments": {
    "image.png": {
     "image/png": "[encoded data removed]"
    }
   },
   "cell_type": "markdown",
   "metadata": {},
   "source": [
    "### Created Tree:\n",
    "![image.png](attachment:image.png)"
   ]
  },
  {
   "cell_type": "code",
   "execution_count": 5,
   "metadata": {},
   "outputs": [
    {
     "name": "stdout",
     "output_type": "stream",
     "text": [
      "30\n",
      "5\n",
      "8\n"
     ]
    },
    {
     "data": {
      "text/plain": [
       "True"
      ]
     },
     "execution_count": 5,
     "metadata": {},
     "output_type": "execute_result"
    }
   ],
   "source": [
    "tree.find(8)"
   ]
  },
  {
   "cell_type": "code",
   "execution_count": 6,
   "metadata": {},
   "outputs": [
    {
     "name": "stdout",
     "output_type": "stream",
     "text": [
      "30\n",
      "5\n",
      "8\n"
     ]
    },
    {
     "data": {
      "text/plain": [
       "False"
      ]
     },
     "execution_count": 6,
     "metadata": {},
     "output_type": "execute_result"
    }
   ],
   "source": [
    "tree.find(9)"
   ]
  },
  {
   "cell_type": "markdown",
   "metadata": {},
   "source": [
    "## Why is the worst case time complexity of the find method only $O(n)$ and not $O(log n)$?"
   ]
  },
  {
   "cell_type": "markdown",
   "metadata": {
    "collapsed": true
   },
   "source": [
    "Since the structure of the binary tree is created according to the values that are being inserted, we could end up with a skewed binary search tree, meaning that it is just a long branch where all nodes go to the same direction. In a case like this, which would be the worst case, in order to find the last element of the tree, we would have to go through all the nodes looking for our value. Click [here](https://media.geeksforgeeks.org/wp-content/uploads/20200517051718/abs.jpg) to see an example of a skewed tree."
   ]
  }
 ],
 "metadata": {
  "kernelspec": {
   "display_name": "Python 3",
   "language": "python",
   "name": "python3"
  },
  "language_info": {
   "codemirror_mode": {
    "name": "ipython",
    "version": 3
   },
   "file_extension": ".py",
   "mimetype": "text/x-python",
   "name": "python",
   "nbconvert_exporter": "python",
   "pygments_lexer": "ipython3",
   "version": "3.8.8"
  },
  "varInspector": {
   "cols": {
    "lenName": 16,
    "lenType": 16,
    "lenVar": 40
   },
   "kernels_config": {
    "python": {
     "delete_cmd_postfix": "",
     "delete_cmd_prefix": "del ",
     "library": "var_list.py",
     "varRefreshCmd": "print(var_dic_list())"
    },
    "r": {
     "delete_cmd_postfix": ") ",
     "delete_cmd_prefix": "rm(",
     "library": "var_list.r",
     "varRefreshCmd": "cat(var_dic_list()) "
    }
   },
   "types_to_exclude": [
    "module",
    "function",
    "builtin_function_or_method",
    "instance",
    "_Feature"
   ],
   "window_display": false
  }
 },
 "nbformat": 4,
 "nbformat_minor": 2
}
